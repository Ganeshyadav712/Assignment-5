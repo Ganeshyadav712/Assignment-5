{
  "nbformat": 4,
  "nbformat_minor": 0,
  "metadata": {
    "colab": {
      "name": "assignment 5.ipynb",
      "provenance": []
    },
    "kernelspec": {
      "name": "python3",
      "display_name": "Python 3"
    },
    "language_info": {
      "name": "python"
    }
  },
  "cells": [
    {
      "cell_type": "code",
      "metadata": {
        "colab": {
          "base_uri": "https://localhost:8080/",
          "height": 279
        },
        "id": "cz5H03VTDH3k",
        "outputId": "cbe81829-db9e-4436-b603-82726e9bbe2d"
      },
      "source": [
        "import numpy as np\n",
        "import matplotlib.pyplot as plt\n",
        "from numpy import linalg as LA\n",
        "\n",
        "#setting up plot\n",
        "fig = plt.figure()\n",
        "ax = fig.add_subplot(111)\n",
        "len = 500\n",
        "y = np.linspace(-3,3,len)\n",
        "\n",
        "#Generate line points\n",
        "def line_gen(A,B):\n",
        "  len =10\n",
        "  x_AB = np.zeros((2,len))\n",
        "  lam_1 = np.linspace(0,1,len)\n",
        "  for i in range(len):\n",
        "    temp1 = A + lam_1[i]*(B-A)\n",
        "    x_AB[:,i]= temp1.T\n",
        "  return x_AB\n",
        "\n",
        "\n",
        "#ELLIPSE parameters\n",
        "V = np.array(([0.04,0],[0,0.1]))\n",
        "f = -1\n",
        "u = np.array(([0,0]))\n",
        "Vinv = LA.inv(V)\n",
        "\n",
        "#Eigenvalues and eigenvectors\n",
        "D_vec,P = LA.eig(V)\n",
        "D = np.diag(D_vec)\n",
        "uconst = u.T@Vinv@u-f\n",
        "a = np.sqrt(np.abs(uconst/D_vec[1]))\n",
        "b = np.sqrt(np.abs(uconst/D_vec[0]))\n",
        "\n",
        "def ellipse_gen(y):\n",
        "\tx = 2*np.sqrt(1-(y**2/9))\n",
        "\treturn x\n",
        "\n",
        "#Affine Parameters\n",
        "c = -Vinv@u\n",
        "R =  np.array(([2,0],[0,3]))\n",
        "ParamMatrix = np.array(([b,0],[0,a]))\n",
        "\n",
        "\n",
        "#Generating the ellipse\n",
        "x = ellipse_gen(y)\n",
        "xStandardLeft = np.vstack((-x,y))\n",
        "xStandardRight = np.vstack((x,y))\n",
        "\n",
        "#Plotting points\n",
        "A = np.array([0,3])\n",
        "B = np.array([0,-3])\n",
        "C = np.array([5,0])\n",
        "D = np.array([-5,0])\n",
        "f_1 = np.array([4,0])\n",
        "f_2 = np.array([-4,0])\n",
        "\n",
        "#Plotting the standard hyperbola\n",
        "plt.plot(xStandardLeft[0,:],xStandardLeft[1,:],label='ellipse',color='b')\n",
        "plt.plot(xStandardRight[0,:],xStandardRight[1,:],color='b')\n",
        "\n",
        "#Plotting the major and minor axis of the ellipse\n",
        "x_AB = line_gen(A,B)\n",
        "plt.plot(x_AB[0,:],x_AB[1,:],color='y')\n",
        "x_CD = line_gen(C,D)\n",
        "plt.plot(x_CD[0,:],x_CD[1,:],color='y')\n",
        "\n",
        "plt.plot(0,0, 'o',color='r',markersize=3)\n",
        "plt.text(0.2 ,-0.2,'C')\n",
        "plt.plot(0,3, 'o',color='r',markersize=3)\n",
        "plt.text(0.2,3.2,'A')\n",
        "plt.plot(0,-3, 'o',color='r',markersize=3)\n",
        "plt.text(0.2 ,-3.2,'B')\n",
        "plt.plot(0,2.236, 'o',color='r',markersize=3)\n",
        "plt.text(0.4 ,2.236,'F1')\n",
        "plt.plot(0,-2.236, 'o',color='r',markersize=3)\n",
        "plt.text(0.4 ,-2.236,'F2')\n",
        "\n",
        "\n",
        "plt.xlabel('$x$')\n",
        "plt.ylabel('$y$')\n",
        "plt.legend(loc='best')\n",
        "plt.grid() # minor\n",
        "plt.axis('equal')\n",
        "plt.show()"
      ],
      "execution_count": 1,
      "outputs": [
        {
          "output_type": "display_data",
          "data": {
            "image/png": "[encoded data removed]",
            "text/plain": [
              "<Figure size 432x288 with 1 Axes>"
            ]
          },
          "metadata": {
            "needs_background": "light"
          }
        }
      ]
    }
  ]
}